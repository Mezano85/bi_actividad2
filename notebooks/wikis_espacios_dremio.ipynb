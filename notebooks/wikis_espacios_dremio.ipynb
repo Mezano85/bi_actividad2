{
 "cells": [
  {
   "cell_type": "code",
   "execution_count": 1,
   "id": "e1f7f821-8d16-46d5-86f2-8d7eab4f68a9",
   "metadata": {},
   "outputs": [],
   "source": [
    "import requests\n",
    "import json"
   ]
  },
  {
   "cell_type": "markdown",
   "id": "ed5332dd-7f5b-4867-b389-32426088b2ce",
   "metadata": {},
   "source": [
    "## Lista de Wikis a Insertar en los espacios"
   ]
  },
  {
   "cell_type": "code",
   "execution_count": 2,
   "id": "3aee8cb5-643e-42b8-af5e-371cb1e77b89",
   "metadata": {},
   "outputs": [],
   "source": [
    "wiki_dic = {\n",
    "    \"Analista 1\" : \"El espacio de trabajo **Analista 1** está diseñado para gestionar y analizar datos provenientes de archivos en formato **CSV**. La información contenida en este espacio está relacionada con la distribución de locales comerciales y sus respectivas licencias en la ciudad.\",\n",
    "    \"Analista 2\" : \"El espacio de trabajo **Analista 2** está destinado a la manipulación y análisis de datos estructurados en formato **JSON**. Los datasets almacenados aquí contienen información relacionada con librerías y publicaciones.\",\n",
    "    \"Analista 3\" : \"El espacio de trabajo **Analista 3** está destinado al análisis de datos abiertos provenientes de diversas fuentes públicas. Este entorno permite la integración y explotación de información útil para estudios urbanos y de infraestructura.\",\n",
    "}"
   ]
  },
  {
   "cell_type": "markdown",
   "id": "6f8cd65f-6854-4e83-94cf-45c20a4a86ef",
   "metadata": {},
   "source": [
    "## Obtención de token para la autenticación en Dremio"
   ]
  },
  {
   "cell_type": "code",
   "execution_count": 3,
   "id": "4f542b16-e12f-47ae-a10e-34a312254dfd",
   "metadata": {},
   "outputs": [],
   "source": [
    "url = \"http://dremio:9047/apiv2/login\"\n",
    "\n",
    "payload = {\n",
    "    \"userName\": \"Mezano85\",\n",
    "    \"password\": \"Aquí tu password\"\n",
    "}\n",
    "\n",
    "headers = {\n",
    "    \"Content-Type\": \"application/json\"\n",
    "}\n",
    "\n",
    "response = requests.post(url, data=json.dumps(payload), headers=headers)"
   ]
  },
  {
   "cell_type": "code",
   "execution_count": 4,
   "id": "ae9a79d3-8fc4-418b-bfa5-9ccbd0b55097",
   "metadata": {},
   "outputs": [
    {
     "data": {
      "text/plain": [
       "'h3e88eoqqgekqgcvejobbqq8se'"
      ]
     },
     "execution_count": 4,
     "metadata": {},
     "output_type": "execute_result"
    }
   ],
   "source": [
    "dremio_token = response.json()['token']\n",
    "dremio_token"
   ]
  },
  {
   "cell_type": "markdown",
   "id": "a0e3f49d-80e0-4531-9be7-c595ed479e48",
   "metadata": {},
   "source": [
    "## Obtención de catalogos de espacios en Dremio"
   ]
  },
  {
   "cell_type": "code",
   "execution_count": 5,
   "id": "16baeba8-3f2c-4439-81c0-4b84158227e0",
   "metadata": {},
   "outputs": [],
   "source": [
    "url_catalog = \"http://dremio:9047/api/v3/catalog\"\n",
    "\n",
    "headers = {\n",
    "    \"Authorization\": dremio_token\n",
    "}\n",
    "\n",
    "catalog = requests.get(url_catalog, headers=headers)"
   ]
  },
  {
   "cell_type": "code",
   "execution_count": 6,
   "id": "b7c7f535-e670-4be6-990f-e73578622d7c",
   "metadata": {},
   "outputs": [
    {
     "data": {
      "text/plain": [
       "[{'id': 'a4bc37af-5681-4e04-8003-b44b01fb1b0d',\n",
       "  'path': ['@Mezano85'],\n",
       "  'tag': '6xOPWQElRqA=',\n",
       "  'type': 'CONTAINER',\n",
       "  'containerType': 'HOME',\n",
       "  'createdAt': '2025-02-10T17:37:55.689Z'},\n",
       " {'id': '6dc1a465-ecdc-4fee-b65d-6bb7b7334010',\n",
       "  'path': ['Analista 1'],\n",
       "  'tag': '2a2pXMOncuQ=',\n",
       "  'type': 'CONTAINER',\n",
       "  'containerType': 'SPACE',\n",
       "  'createdAt': '2025-02-10T19:18:20.195Z'},\n",
       " {'id': 'c872fda4-f55c-4db9-a0ef-d80cf2a7024d',\n",
       "  'path': ['Analista 2'],\n",
       "  'tag': 'U7oQ0QsLj5o=',\n",
       "  'type': 'CONTAINER',\n",
       "  'containerType': 'SPACE',\n",
       "  'createdAt': '2025-02-10T19:18:26.935Z'},\n",
       " {'id': '279099b4-7a75-4717-9b83-43c0d726bbb6',\n",
       "  'path': ['Analista 3'],\n",
       "  'tag': 'rL0h6u9yIvQ=',\n",
       "  'type': 'CONTAINER',\n",
       "  'containerType': 'SPACE',\n",
       "  'createdAt': '2025-02-10T19:18:32.563Z'}]"
      ]
     },
     "execution_count": 6,
     "metadata": {},
     "output_type": "execute_result"
    }
   ],
   "source": [
    "catalog_list = catalog.json()['data']\n",
    "catalog_list"
   ]
  },
  {
   "cell_type": "markdown",
   "id": "de5d0617-b32c-463d-9f1a-f8bddf1fd14a",
   "metadata": {},
   "source": [
    "## Carga de Wikis en Dremio"
   ]
  },
  {
   "cell_type": "code",
   "execution_count": 7,
   "id": "64fe83e6-1000-4757-94db-0cab7f1ad091",
   "metadata": {},
   "outputs": [
    {
     "name": "stdout",
     "output_type": "stream",
     "text": [
      "==================================================\n",
      "Analista 1  -  200\n",
      "{\"text\":\"El espacio de trabajo **Analista 1** está diseñado para gestionar y analizar datos provenientes de archivos en formato **CSV**. La información contenida en este espacio está relacionada con la distribución de locales comerciales y sus respectivas licencias en la ciudad.\",\"version\":1}\n",
      "==================================================\n",
      "Analista 2  -  200\n",
      "{\"text\":\"El espacio de trabajo **Analista 2** está destinado a la manipulación y análisis de datos estructurados en formato **JSON**. Los datasets almacenados aquí contienen información relacionada con librerías y publicaciones.\",\"version\":1}\n",
      "==================================================\n",
      "Analista 3  -  200\n",
      "{\"text\":\"El espacio de trabajo **Analista 3** está destinado al análisis de datos abiertos provenientes de diversas fuentes públicas. Este entorno permite la integración y explotación de información útil para estudios urbanos y de infraestructura.\",\"version\":1}\n"
     ]
    }
   ],
   "source": [
    "headers = {\n",
    "            \"Authorization\": dremio_token,\n",
    "            \"Content-Type\": \"application/json\"\n",
    "          }\n",
    "\n",
    "for element in catalog_list:\n",
    "    if element['path'][0] in wiki_dic.keys() : # Si el espacio esta en la lista de espacios de wiki_dic\n",
    "        space_path = element['path'][0] # Nombre del espacio\n",
    "        url_wiki = f\"http://dremio:9047/api/v3/catalog/{element.get('id')}/collaboration/wiki\"\n",
    "        payload = {\n",
    "            \"text\": wiki_dic.get(space_path),\n",
    "            \"version\": 0\n",
    "        }\n",
    "        \n",
    "        # Insertando la Wiki en Dremio\n",
    "        res = requests.post(url_wiki, headers=headers, data=json.dumps(payload))\n",
    "        print(50*\"=\")\n",
    "        print(space_path, \" - \", res.status_code)\n",
    "        print(res.text)\n",
    "\n",
    "         "
   ]
  },
  {
   "cell_type": "code",
   "execution_count": null,
   "id": "accbe9ae-e1f1-4294-9585-045f439a653a",
   "metadata": {},
   "outputs": [],
   "source": []
  }
 ],
 "metadata": {
  "kernelspec": {
   "display_name": "Python 3 (ipykernel)",
   "language": "python",
   "name": "python3"
  },
  "language_info": {
   "codemirror_mode": {
    "name": "ipython",
    "version": 3
   },
   "file_extension": ".py",
   "mimetype": "text/x-python",
   "name": "python",
   "nbconvert_exporter": "python",
   "pygments_lexer": "ipython3",
   "version": "3.11.6"
  }
 },
 "nbformat": 4,
 "nbformat_minor": 5
}
